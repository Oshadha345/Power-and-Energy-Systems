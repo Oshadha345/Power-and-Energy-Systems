{
 "cells": [
  {
   "cell_type": "markdown",
   "id": "97ef5842",
   "metadata": {},
   "source": [
    "# Get Into Sympy"
   ]
  },
  {
   "cell_type": "markdown",
   "id": "cca2622d",
   "metadata": {},
   "source": [
    "## 🌱 Lesson 1: Introduction"
   ]
  },
  {
   "cell_type": "markdown",
   "id": "f9be0895",
   "metadata": {},
   "source": [
    "### 1.1 Importing"
   ]
  },
  {
   "cell_type": "code",
   "execution_count": 2,
   "id": "fb75ec95",
   "metadata": {},
   "outputs": [],
   "source": [
    "import sympy as sp\n",
    "from sympy import *\n",
    "from sympy import latex as tx\n",
    "from IPython.display import display"
   ]
  },
  {
   "cell_type": "markdown",
   "id": "5a04077d",
   "metadata": {},
   "source": [
    "### 1.2 Creating Symbols and Expressions"
   ]
  },
  {
   "cell_type": "code",
   "execution_count": 3,
   "id": "a354a375",
   "metadata": {},
   "outputs": [],
   "source": [
    "# Declare the symbols\n",
    "\n",
    "x, y = sp.symbols('x y')\n"
   ]
  },
  {
   "cell_type": "code",
   "execution_count": 60,
   "id": "e00763d5",
   "metadata": {},
   "outputs": [
    {
     "data": {
      "text/latex": [
       "$\\displaystyle \\left(x + 2 y\\right)^{2}$"
      ],
      "text/plain": [
       "(x + 2*y)**2"
      ]
     },
     "execution_count": 60,
     "metadata": {},
     "output_type": "execute_result"
    }
   ],
   "source": [
    "(x + 2*y)**2"
   ]
  },
  {
   "cell_type": "code",
   "execution_count": 66,
   "id": "85503043",
   "metadata": {},
   "outputs": [
    {
     "name": "stdout",
     "output_type": "stream",
     "text": [
      "         2\n",
      "(x + 2⋅y) \n"
     ]
    },
    {
     "data": {
      "text/latex": [
       "$\\displaystyle \\left(x + 2 y\\right)^{2}$"
      ],
      "text/plain": [
       "(x + 2*y)**2"
      ]
     },
     "metadata": {},
     "output_type": "display_data"
    },
    {
     "data": {
      "text/plain": [
       "'\\\\left(x + 2 y\\\\right)^{2}'"
      ]
     },
     "execution_count": 66,
     "metadata": {},
     "output_type": "execute_result"
    }
   ],
   "source": [
    "# Build as expression\n",
    "\n",
    "expr = (x + 2*y)**2\n",
    "\n",
    "#pretty print\n",
    "pprint(expr)\n",
    "\n",
    "#Ipython display\n",
    "display(expr)\n",
    "\n",
    "# Display as LaTeX \n",
    "tx(expr)    "
   ]
  },
  {
   "cell_type": "code",
   "execution_count": 62,
   "id": "0ff04cba",
   "metadata": {},
   "outputs": [
    {
     "name": "stdout",
     "output_type": "stream",
     "text": [
      "Expression:  (x + 2*y)**2\n"
     ]
    },
    {
     "data": {
      "text/plain": [
       "{x, y}"
      ]
     },
     "execution_count": 62,
     "metadata": {},
     "output_type": "execute_result"
    }
   ],
   "source": [
    "# Inspect it\n",
    "\n",
    "print(\"Expression: \", expr)\n",
    "expr.free_symbols"
   ]
  },
  {
   "cell_type": "code",
   "execution_count": 63,
   "id": "cd814ec0",
   "metadata": {},
   "outputs": [
    {
     "data": {
      "text/latex": [
       "$\\displaystyle x^{2} + 4 x y + 4 y^{2}$"
      ],
      "text/plain": [
       "x**2 + 4*x*y + 4*y**2"
      ]
     },
     "execution_count": 63,
     "metadata": {},
     "output_type": "execute_result"
    }
   ],
   "source": [
    "# expand it\n",
    "\n",
    "sp.expand(expr)\n"
   ]
  },
  {
   "cell_type": "code",
   "execution_count": 69,
   "id": "47af6aca",
   "metadata": {},
   "outputs": [
    {
     "data": {
      "text/latex": [
       "$\\displaystyle \\left(x + 1\\right)^{2}$"
      ],
      "text/plain": [
       "(x + 1)**2"
      ]
     },
     "metadata": {},
     "output_type": "display_data"
    }
   ],
   "source": [
    "# simplify \n",
    "\n",
    "simplified = factor(x**2+2*x+1)\n",
    "\n",
    "display(simplified)"
   ]
  },
  {
   "cell_type": "markdown",
   "id": "2475162e",
   "metadata": {},
   "source": [
    "### Exercise"
   ]
  },
  {
   "cell_type": "code",
   "execution_count": 70,
   "id": "00d72afd",
   "metadata": {},
   "outputs": [
    {
     "data": {
      "text/latex": [
       "$\\displaystyle a^{3} - 3 a b + c$"
      ],
      "text/plain": [
       "a**3 - 3*a*b + c"
      ]
     },
     "metadata": {},
     "output_type": "display_data"
    }
   ],
   "source": [
    "a, b, c = sp.symbols('a b c')\n",
    "\n",
    "q = a**3 - 3*a*b + c\n",
    "\n",
    "display(q)"
   ]
  },
  {
   "cell_type": "code",
   "execution_count": 75,
   "id": "69a7da38",
   "metadata": {},
   "outputs": [
    {
     "data": {
      "text/latex": [
       "$\\displaystyle a^{3} + 3 a^{2} b + 3 a b^{2} + b^{3}$"
      ],
      "text/plain": [
       "a**3 + 3*a**2*b + 3*a*b**2 + b**3"
      ]
     },
     "metadata": {},
     "output_type": "display_data"
    },
    {
     "data": {
      "text/latex": [
       "$\\displaystyle \\left(a - b\\right) \\left(a + b\\right)$"
      ],
      "text/plain": [
       "(a - b)*(a + b)"
      ]
     },
     "metadata": {},
     "output_type": "display_data"
    }
   ],
   "source": [
    "display(expand((a + b)**3))\n",
    "\n",
    "display(factor(simplify(a**2-b**2)))"
   ]
  },
  {
   "cell_type": "code",
   "execution_count": 73,
   "id": "0857507c",
   "metadata": {},
   "outputs": [
    {
     "data": {
      "text/latex": [
       "$\\displaystyle -5$"
      ],
      "text/plain": [
       "-5"
      ]
     },
     "execution_count": 73,
     "metadata": {},
     "output_type": "execute_result"
    }
   ],
   "source": [
    "q.subs(a,2).subs(b,3).subs(c,5)"
   ]
  },
  {
   "cell_type": "markdown",
   "id": "2a690129",
   "metadata": {},
   "source": [
    "## 🏁 Lesson 2: Core Algebraic Manipulation"
   ]
  },
  {
   "cell_type": "markdown",
   "id": "415df4a8",
   "metadata": {},
   "source": [
    "### 2.1 Expanding Expressions (`expand`)"
   ]
  },
  {
   "cell_type": "code",
   "execution_count": 4,
   "id": "8e43ca6a",
   "metadata": {},
   "outputs": [
    {
     "data": {
      "text/latex": [
       "$\\displaystyle \\left(x - 3\\right) \\left(x + 2\\right) \\left(y + 1\\right)$"
      ],
      "text/plain": [
       "(x - 3)*(x + 2)*(y + 1)"
      ]
     },
     "metadata": {},
     "output_type": "display_data"
    }
   ],
   "source": [
    "x, y = sp.symbols('x y')\n",
    "\n",
    "exp = (x + 2)*(x - 3)*(y + 1)\n",
    "display(exp)"
   ]
  },
  {
   "cell_type": "code",
   "execution_count": 5,
   "id": "80553947",
   "metadata": {},
   "outputs": [
    {
     "data": {
      "text/latex": [
       "$\\displaystyle x^{2} y + x^{2} - x y - x - 6 y - 6$"
      ],
      "text/plain": [
       "x**2*y + x**2 - x*y - x - 6*y - 6"
      ]
     },
     "metadata": {},
     "output_type": "display_data"
    }
   ],
   "source": [
    "display(expand(exp))"
   ]
  },
  {
   "cell_type": "code",
   "execution_count": 7,
   "id": "2fdfff6e",
   "metadata": {},
   "outputs": [
    {
     "data": {
      "text/latex": [
       "$\\displaystyle \\left(\\sin{\\left(x \\right)} - \\cos{\\left(x \\right)}\\right) \\left(- \\sin{\\left(2 x \\right)} + \\cos{\\left(2 x \\right)}\\right)$"
      ],
      "text/plain": [
       "(sin(x) - cos(x))*(-sin(2*x) + cos(2*x))"
      ]
     },
     "metadata": {},
     "output_type": "display_data"
    }
   ],
   "source": [
    "exp_trig = (sin(x) - cos(x))*(cos(2*x)-sin(2*x))\n",
    "display(exp_trig)"
   ]
  },
  {
   "cell_type": "code",
   "execution_count": 8,
   "id": "a8eaacdc",
   "metadata": {},
   "outputs": [
    {
     "data": {
      "text/latex": [
       "$\\displaystyle - \\sin{\\left(x \\right)} \\sin{\\left(2 x \\right)} + \\sin{\\left(x \\right)} \\cos{\\left(2 x \\right)} + \\sin{\\left(2 x \\right)} \\cos{\\left(x \\right)} - \\cos{\\left(x \\right)} \\cos{\\left(2 x \\right)}$"
      ],
      "text/plain": [
       "-sin(x)*sin(2*x) + sin(x)*cos(2*x) + sin(2*x)*cos(x) - cos(x)*cos(2*x)"
      ]
     },
     "metadata": {},
     "output_type": "display_data"
    }
   ],
   "source": [
    "display(expand(exp_trig))\n"
   ]
  },
  {
   "cell_type": "code",
   "execution_count": 9,
   "id": "39117f3e",
   "metadata": {},
   "outputs": [
    {
     "data": {
      "text/latex": [
       "$\\displaystyle \\sin^{2}{\\left(t \\right)} + \\cos^{2}{\\left(t \\right)}$"
      ],
      "text/plain": [
       "sin(t)**2 + cos(t)**2"
      ]
     },
     "metadata": {},
     "output_type": "display_data"
    }
   ],
   "source": [
    "t = symbols('t')\n",
    "\n",
    "tri = sin(t)**2 + cos(t)**2\n",
    "display(tri)"
   ]
  },
  {
   "cell_type": "code",
   "execution_count": 11,
   "id": "42d447c8",
   "metadata": {},
   "outputs": [
    {
     "data": {
      "text/latex": [
       "$\\displaystyle \\sin^{2}{\\left(t \\right)} + \\cos^{2}{\\left(t \\right)}$"
      ],
      "text/plain": [
       "sin(t)**2 + cos(t)**2"
      ]
     },
     "metadata": {},
     "output_type": "display_data"
    }
   ],
   "source": [
    "display(expand(tri))"
   ]
  },
  {
   "cell_type": "code",
   "execution_count": 14,
   "id": "d7f14740",
   "metadata": {},
   "outputs": [
    {
     "data": {
      "text/latex": [
       "$\\displaystyle 1$"
      ],
      "text/plain": [
       "1"
      ]
     },
     "metadata": {},
     "output_type": "display_data"
    }
   ],
   "source": [
    "display(simplify(tri))"
   ]
  },
  {
   "cell_type": "markdown",
   "id": "3f979b64",
   "metadata": {},
   "source": [
    "### 2.2  Factoring Expressions (`factor`)"
   ]
  },
  {
   "cell_type": "code",
   "execution_count": 78,
   "id": "3f4432dc",
   "metadata": {},
   "outputs": [
    {
     "data": {
      "text/latex": [
       "$\\displaystyle \\left(x - 1\\right) \\left(x + 1\\right) \\left(x + 2\\right)$"
      ],
      "text/plain": [
       "(x - 1)*(x + 1)*(x + 2)"
      ]
     },
     "metadata": {},
     "output_type": "display_data"
    }
   ],
   "source": [
    "expr2 = x**3 + 2*x**2 - x -2\n",
    "\n",
    "factored = factor(expr2)    \n",
    "\n",
    "display(factored)"
   ]
  },
  {
   "cell_type": "code",
   "execution_count": 82,
   "id": "9135aae7",
   "metadata": {},
   "outputs": [
    {
     "data": {
      "text/latex": [
       "$\\displaystyle x^{3} + 2 x^{2} - x$"
      ],
      "text/plain": [
       "x**3 + 2*x**2 - x"
      ]
     },
     "metadata": {},
     "output_type": "display_data"
    },
    {
     "data": {
      "text/latex": [
       "$\\displaystyle x \\left(x^{2} + 2 x - 1\\right)$"
      ],
      "text/plain": [
       "x*(x**2 + 2*x - 1)"
      ]
     },
     "metadata": {},
     "output_type": "display_data"
    }
   ],
   "source": [
    "display(expr2+2)\n",
    "display(factor_terms(expr2+2))"
   ]
  },
  {
   "cell_type": "markdown",
   "id": "3c3fc94d",
   "metadata": {},
   "source": [
    "`factor_terms(expr)`– pull out common prefactors"
   ]
  },
  {
   "cell_type": "code",
   "execution_count": 83,
   "id": "e360cba5",
   "metadata": {},
   "outputs": [
    {
     "data": {
      "text/plain": [
       "(1, [(x - 1, 1), (x + 1, 1), (x + 2, 1)])"
      ]
     },
     "metadata": {},
     "output_type": "display_data"
    }
   ],
   "source": [
    "display(factor_list(expr2))"
   ]
  },
  {
   "cell_type": "markdown",
   "id": "2ea4f939",
   "metadata": {},
   "source": [
    "For factorization over other fields (e.g. complex), pass `extension=[I]`."
   ]
  },
  {
   "cell_type": "code",
   "execution_count": 16,
   "id": "5a01d95b",
   "metadata": {},
   "outputs": [
    {
     "data": {
      "text/latex": [
       "$\\displaystyle x^{2} + 4$"
      ],
      "text/plain": [
       "x**2 + 4"
      ]
     },
     "metadata": {},
     "output_type": "display_data"
    }
   ],
   "source": [
    "poly = x**2 + 4\n",
    "\n",
    "display(factor(poly))"
   ]
  },
  {
   "cell_type": "code",
   "execution_count": 17,
   "id": "689ac2cc",
   "metadata": {},
   "outputs": [
    {
     "data": {
      "text/latex": [
       "$\\displaystyle \\left(x - 2 i\\right) \\left(x + 2 i\\right)$"
      ],
      "text/plain": [
       "(x - 2*I)*(x + 2*I)"
      ]
     },
     "metadata": {},
     "output_type": "display_data"
    }
   ],
   "source": [
    "display(factor(poly, extension = [I]))"
   ]
  },
  {
   "cell_type": "markdown",
   "id": "a86c5db8",
   "metadata": {},
   "source": [
    "### 2.3 General Simplification (`simplify`)"
   ]
  },
  {
   "cell_type": "code",
   "execution_count": 84,
   "id": "9803aa72",
   "metadata": {},
   "outputs": [
    {
     "data": {
      "text/latex": [
       "$\\displaystyle \\frac{x^{2} - 1}{x - 1}$"
      ],
      "text/plain": [
       "(x**2 - 1)/(x - 1)"
      ]
     },
     "metadata": {},
     "output_type": "display_data"
    }
   ],
   "source": [
    "expr3 = (x**2 - 1)/(x-1)\n",
    "\n",
    "display(expr3)"
   ]
  },
  {
   "cell_type": "code",
   "execution_count": 85,
   "id": "3c67fa64",
   "metadata": {},
   "outputs": [
    {
     "data": {
      "text/latex": [
       "$\\displaystyle x + 1$"
      ],
      "text/plain": [
       "x + 1"
      ]
     },
     "metadata": {},
     "output_type": "display_data"
    }
   ],
   "source": [
    "display(simplify(expr3))"
   ]
  },
  {
   "cell_type": "code",
   "execution_count": 86,
   "id": "8aedc1af",
   "metadata": {},
   "outputs": [
    {
     "data": {
      "text/latex": [
       "$\\displaystyle \\sin^{2}{\\left(x \\right)} + \\cos^{2}{\\left(x \\right)}$"
      ],
      "text/plain": [
       "sin(x)**2 + cos(x)**2"
      ]
     },
     "metadata": {},
     "output_type": "display_data"
    }
   ],
   "source": [
    "expr4 = sin(x)**2 + cos(x)**2\n",
    "display(expr4)"
   ]
  },
  {
   "cell_type": "code",
   "execution_count": 87,
   "id": "7c104336",
   "metadata": {},
   "outputs": [
    {
     "data": {
      "text/latex": [
       "$\\displaystyle 1$"
      ],
      "text/plain": [
       "1"
      ]
     },
     "metadata": {},
     "output_type": "display_data"
    }
   ],
   "source": [
    "display(simplify(expr4))"
   ]
  },
  {
   "cell_type": "code",
   "execution_count": 29,
   "id": "b352406e",
   "metadata": {},
   "outputs": [
    {
     "data": {
      "text/latex": [
       "$\\displaystyle \\log{\\left(a \\right)} + \\log{\\left(b \\right)}$"
      ],
      "text/plain": [
       "log(a) + log(b)"
      ]
     },
     "metadata": {},
     "output_type": "display_data"
    }
   ],
   "source": [
    "expr5 = (log(a) + log(b))\n",
    "display(expr5)  "
   ]
  },
  {
   "cell_type": "code",
   "execution_count": 30,
   "id": "4251f81c",
   "metadata": {},
   "outputs": [
    {
     "data": {
      "text/latex": [
       "$\\displaystyle \\log{\\left(a \\right)} + \\log{\\left(b \\right)}$"
      ],
      "text/plain": [
       "log(a) + log(b)"
      ]
     },
     "metadata": {},
     "output_type": "display_data"
    }
   ],
   "source": [
    "display(simplify(expr5))"
   ]
  },
  {
   "cell_type": "code",
   "execution_count": 31,
   "id": "9df2a8eb",
   "metadata": {},
   "outputs": [
    {
     "data": {
      "text/latex": [
       "$\\displaystyle \\log{\\left(a b \\right)}$"
      ],
      "text/plain": [
       "log(a*b)"
      ]
     },
     "metadata": {},
     "output_type": "display_data"
    }
   ],
   "source": [
    "display(logcombine(expr5, force=True))"
   ]
  },
  {
   "cell_type": "code",
   "execution_count": null,
   "id": "fd27e98f",
   "metadata": {},
   "outputs": [
    {
     "data": {
      "text/plain": [
       "'Root :'"
      ]
     },
     "metadata": {},
     "output_type": "display_data"
    },
    {
     "data": {
      "text/latex": [
       "$\\displaystyle \\frac{1}{\\sqrt{2} + 3}$"
      ],
      "text/plain": [
       "1/(sqrt(2) + 3)"
      ]
     },
     "metadata": {},
     "output_type": "display_data"
    },
    {
     "data": {
      "text/plain": [
       "'Simplified :'"
      ]
     },
     "metadata": {},
     "output_type": "display_data"
    },
    {
     "data": {
      "text/latex": [
       "$\\displaystyle \\frac{3}{7} - \\frac{\\sqrt{2}}{7}$"
      ],
      "text/plain": [
       "3/7 - sqrt(2)/7"
      ]
     },
     "metadata": {},
     "output_type": "display_data"
    }
   ],
   "source": [
    "root = 1/(sqrt(2) + 3)\n",
    "\n",
    "display('Root :',root)\n",
    "display('Simplified :',simplify(root))     "
   ]
  },
  {
   "cell_type": "code",
   "execution_count": 21,
   "id": "c9c9307f",
   "metadata": {},
   "outputs": [
    {
     "data": {
      "text/latex": [
       "$\\displaystyle \\frac{314159}{100000}$"
      ],
      "text/plain": [
       "314159/100000"
      ]
     },
     "metadata": {},
     "output_type": "display_data"
    },
    {
     "data": {
      "text/latex": [
       "$\\displaystyle 2 e + 3 \\pi$"
      ],
      "text/plain": [
       "2*E + 3*pi"
      ]
     },
     "metadata": {},
     "output_type": "display_data"
    }
   ],
   "source": [
    "display(nsimplify(3.14159, [pi]))\n",
    "\n",
    "display(nsimplify(3*pi + 2*E, [pi,E]))"
   ]
  },
  {
   "cell_type": "code",
   "execution_count": 24,
   "id": "bb549ed1",
   "metadata": {},
   "outputs": [
    {
     "data": {
      "text/latex": [
       "$\\displaystyle \\left|{a b}\\right|$"
      ],
      "text/plain": [
       "Abs(a*b)"
      ]
     },
     "metadata": {},
     "output_type": "display_data"
    },
    {
     "data": {
      "text/latex": [
       "$\\displaystyle a b$"
      ],
      "text/plain": [
       "_a*_b"
      ]
     },
     "metadata": {},
     "output_type": "display_data"
    },
    {
     "data": {
      "text/plain": [
       "{_a: a, _b: b}"
      ]
     },
     "metadata": {},
     "output_type": "display_data"
    }
   ],
   "source": [
    "a,b = symbols('a b')\n",
    "exprx = abs(a*b)\n",
    "expry, mapping = posify(exprx)\n",
    "\n",
    "display(exprx)\n",
    "display(expry)\n",
    "display(mapping)"
   ]
  },
  {
   "cell_type": "code",
   "execution_count": 34,
   "id": "84e67738",
   "metadata": {},
   "outputs": [
    {
     "data": {
      "text/latex": [
       "$\\displaystyle \\frac{1}{y} + \\frac{1}{x}$"
      ],
      "text/plain": [
       "1/y + 1/x"
      ]
     },
     "metadata": {},
     "output_type": "display_data"
    },
    {
     "data": {
      "text/latex": [
       "$\\displaystyle \\frac{x + y}{x y}$"
      ],
      "text/plain": [
       "(x + y)/(x*y)"
      ]
     },
     "metadata": {},
     "output_type": "display_data"
    }
   ],
   "source": [
    "exprR = 1/x + 1/y\n",
    "display(exprR)\n",
    "display(ratsimp(exprR))\n"
   ]
  },
  {
   "cell_type": "code",
   "execution_count": 32,
   "id": "b559745e",
   "metadata": {},
   "outputs": [
    {
     "data": {
      "text/plain": [
       "(x + 1, x - 1)"
      ]
     },
     "metadata": {},
     "output_type": "display_data"
    }
   ],
   "source": [
    "display(fraction((x+1)/(x-1)) )\n"
   ]
  },
  {
   "cell_type": "code",
   "execution_count": 33,
   "id": "be997bf0",
   "metadata": {},
   "outputs": [
    {
     "data": {
      "text/latex": [
       "$\\displaystyle \\frac{1}{\\sqrt{x} + \\sqrt{y}}$"
      ],
      "text/plain": [
       "1/(sqrt(x) + sqrt(y))"
      ]
     },
     "metadata": {},
     "output_type": "display_data"
    }
   ],
   "source": [
    "exprE = 1/(sqrt(x) + sqrt(y))\n",
    "\n",
    "display(exprE)"
   ]
  },
  {
   "cell_type": "code",
   "execution_count": 40,
   "id": "5a5c495a",
   "metadata": {},
   "outputs": [
    {
     "data": {
      "text/latex": [
       "$\\displaystyle \\frac{\\sqrt{x} - \\sqrt{y}}{x - y}$"
      ],
      "text/plain": [
       "(sqrt(x) - sqrt(y))/(x - y)"
      ]
     },
     "metadata": {},
     "output_type": "display_data"
    }
   ],
   "source": [
    "display(radsimp(exprE))"
   ]
  },
  {
   "cell_type": "code",
   "execution_count": 44,
   "id": "9b6debff",
   "metadata": {},
   "outputs": [
    {
     "data": {
      "text/latex": [
       "$\\displaystyle \\log{\\left(a \\right)} + 2 \\log{\\left(b \\right)} - \\log{\\left(x \\right)}$"
      ],
      "text/plain": [
       "log(a) + 2*log(b) - log(x)"
      ]
     },
     "metadata": {},
     "output_type": "display_data"
    },
    {
     "data": {
      "text/latex": [
       "$\\displaystyle \\log{\\left(\\frac{a b^{2}}{x} \\right)}$"
      ],
      "text/plain": [
       "log(a*b**2/x)"
      ]
     },
     "metadata": {},
     "output_type": "display_data"
    }
   ],
   "source": [
    "exprlog = log(a) + 2*log(b) - log(x)\n",
    "\n",
    "display(exprlog)\n",
    "display(logcombine(exprlog,force=True))"
   ]
  },
  {
   "cell_type": "code",
   "execution_count": 45,
   "id": "627b72c4",
   "metadata": {},
   "outputs": [
    {
     "data": {
      "text/latex": [
       "$\\displaystyle x^{5}$"
      ],
      "text/plain": [
       "x**5"
      ]
     },
     "metadata": {},
     "output_type": "display_data"
    }
   ],
   "source": [
    "exprP = x**2 * x**3\n",
    "\n",
    "display(exprP)"
   ]
  },
  {
   "cell_type": "code",
   "execution_count": 46,
   "id": "5c42330b",
   "metadata": {},
   "outputs": [
    {
     "data": {
      "text/latex": [
       "$\\displaystyle \\left(x^{2}\\right)^{3 y}$"
      ],
      "text/plain": [
       "(x**2)**(3*y)"
      ]
     },
     "metadata": {},
     "output_type": "display_data"
    }
   ],
   "source": [
    "exprp = (x**2)**(3*y)\n",
    "\n",
    "display(exprp)"
   ]
  },
  {
   "cell_type": "code",
   "execution_count": 53,
   "id": "80118ff8",
   "metadata": {},
   "outputs": [
    {
     "data": {
      "text/latex": [
       "$\\displaystyle \\left(x^{6}\\right)^{y}$"
      ],
      "text/plain": [
       "(x**6)**y"
      ]
     },
     "metadata": {},
     "output_type": "display_data"
    },
    {
     "data": {
      "text/latex": [
       "$\\displaystyle x^{6 y}$"
      ],
      "text/plain": [
       "x**(6*y)"
      ]
     },
     "metadata": {},
     "output_type": "display_data"
    }
   ],
   "source": [
    "display(simplify(powsimp(exprp,force=True)))\n",
    "display(powdenest(exprp,force=True))"
   ]
  },
  {
   "cell_type": "code",
   "execution_count": 57,
   "id": "212a2bd3",
   "metadata": {},
   "outputs": [
    {
     "data": {
      "text/latex": [
       "$\\displaystyle 2 \\sin{\\left(x \\right)} \\cos{\\left(x \\right)} + \\sin{\\left(2 x \\right)} + \\cos{\\left(3 x \\right)}$"
      ],
      "text/plain": [
       "2*sin(x)*cos(x) + sin(2*x) + cos(3*x)"
      ]
     },
     "metadata": {},
     "output_type": "display_data"
    }
   ],
   "source": [
    "exprtrig = sin(2*x) + 2*sin(x)*cos(x) + cos(3*x)\n",
    "\n",
    "display(exprtrig)"
   ]
  },
  {
   "cell_type": "code",
   "execution_count": 58,
   "id": "617dcb08",
   "metadata": {},
   "outputs": [
    {
     "data": {
      "text/latex": [
       "$\\displaystyle 2 \\sin{\\left(2 x \\right)} + \\cos{\\left(3 x \\right)}$"
      ],
      "text/plain": [
       "2*sin(2*x) + cos(3*x)"
      ]
     },
     "metadata": {},
     "output_type": "display_data"
    }
   ],
   "source": [
    "display(simplify(exprtrig))"
   ]
  },
  {
   "cell_type": "code",
   "execution_count": 63,
   "id": "58d2add2",
   "metadata": {},
   "outputs": [
    {
     "data": {
      "text/latex": [
       "$\\displaystyle \\frac{n!}{\\left(n - 3\\right)!}$"
      ],
      "text/plain": [
       "factorial(n)/factorial(n - 3)"
      ]
     },
     "metadata": {},
     "output_type": "display_data"
    }
   ],
   "source": [
    "n, k = symbols('n k')\n",
    "\n",
    "comb = factorial(n)/factorial(n-3)\n",
    "\n",
    "display(comb)"
   ]
  },
  {
   "cell_type": "code",
   "execution_count": 64,
   "id": "4769117d",
   "metadata": {},
   "outputs": [
    {
     "data": {
      "text/latex": [
       "$\\displaystyle n \\left(n - 2\\right) \\left(n - 1\\right)$"
      ],
      "text/plain": [
       "n*(n - 2)*(n - 1)"
      ]
     },
     "metadata": {},
     "output_type": "display_data"
    }
   ],
   "source": [
    "display(simplify(comb))"
   ]
  },
  {
   "cell_type": "code",
   "execution_count": 65,
   "id": "15520e7e",
   "metadata": {},
   "outputs": [
    {
     "data": {
      "text/latex": [
       "$\\displaystyle n \\left(n - 2\\right) \\left(n - 1\\right)$"
      ],
      "text/plain": [
       "n*(n - 2)*(n - 1)"
      ]
     },
     "metadata": {},
     "output_type": "display_data"
    }
   ],
   "source": [
    "display(combsimp(comb))"
   ]
  },
  {
   "cell_type": "code",
   "execution_count": 66,
   "id": "3d25532d",
   "metadata": {},
   "outputs": [
    {
     "data": {
      "text/latex": [
       "$\\displaystyle \\frac{{\\binom{n + 1}{k + 1}}}{{\\binom{n}{k}}}$"
      ],
      "text/plain": [
       "binomial(n + 1, k + 1)/binomial(n, k)"
      ]
     },
     "metadata": {},
     "output_type": "display_data"
    }
   ],
   "source": [
    "display(binomial(n+1,k+1)/binomial(n,k))"
   ]
  },
  {
   "cell_type": "code",
   "execution_count": 67,
   "id": "da76e8b3",
   "metadata": {},
   "outputs": [
    {
     "data": {
      "text/latex": [
       "$\\displaystyle \\frac{n + 1}{k + 1}$"
      ],
      "text/plain": [
       "(n + 1)/(k + 1)"
      ]
     },
     "metadata": {},
     "output_type": "display_data"
    }
   ],
   "source": [
    "display(combsimp(binomial(n+1,k+1)/binomial(n,k)))"
   ]
  },
  {
   "cell_type": "code",
   "execution_count": null,
   "id": "9d666d78",
   "metadata": {},
   "outputs": [
    {
     "data": {
      "text/plain": [
       "90"
      ]
     },
     "metadata": {},
     "output_type": "display_data"
    },
    {
     "data": {
      "text/plain": [
       "(4, False)"
      ]
     },
     "metadata": {},
     "output_type": "display_data"
    }
   ],
   "source": [
    "r = 90 \n",
    "\n",
    "display(r)\n",
    "\n",
    "display(integer_nthroot(r,3))"
   ]
  },
  {
   "cell_type": "code",
   "execution_count": null,
   "id": "bb78234e",
   "metadata": {},
   "outputs": [
    {
     "data": {
      "text/latex": [
       "$\\displaystyle \\frac{\\left(w + y + z\\right) \\left(w + x + y + z\\right)}{\\left(w + x\\right)^{3}}$"
      ],
      "text/plain": [
       "(w + y + z)*(w + x + y + z)/(w + x)**3"
      ]
     },
     "metadata": {},
     "output_type": "display_data"
    },
    {
     "data": {
      "text/plain": [
       "([(x0, y + z), (x1, w + x)], [(w + x0)*(x0 + x1)/x1**3])"
      ]
     },
     "metadata": {},
     "output_type": "display_data"
    }
   ],
   "source": [
    "#Common Subexpression Elimination (CSE)\n",
    "\n",
    "from sympy.abc import w,x,y,z\n",
    ")\n",
    "eq = ((w+x+y+z)*(w+y+z))/(w+x)**3\n",
    "\n",
    "display(eq)\n",
    "\n",
    "display(cse(eq))"
   ]
  },
  {
   "cell_type": "code",
   "execution_count": null,
   "id": "e8fb0ea2",
   "metadata": {},
   "outputs": [
    {
     "data": {
      "text/latex": [
       "$\\displaystyle t + \\sin{\\left(x + 1 \\right)} + \\cos{\\left(x + y + e \\right)}$"
      ],
      "text/plain": [
       "t + sin(x + 1) + cos(x + y + E)"
      ]
     },
     "metadata": {},
     "output_type": "display_data"
    },
    {
     "data": {
      "text/latex": [
       "$\\displaystyle t + \\sin{\\left(2 x + 1 \\right)} + \\cos{\\left(2 x + 2 y + e \\right)}$"
      ],
      "text/plain": [
       "t + sin(2*x + 1) + cos(2*x + 2*y + E)"
      ]
     },
     "metadata": {},
     "output_type": "display_data"
    }
   ],
   "source": [
    "from sympy.abc import x,y,t\n",
    "exprPath = t + sin(x+1) + cos(x+y+E)\n",
    "\n",
    "# Select all Symbol nodes and double them:\n",
    "path = EPath(\"/*/*/Symbol\")\n",
    "new = path.apply(expr, lambda e: 2*e)\n",
    "\n",
    "display(exprPath)\n",
    "\n",
    "display(new)\n"
   ]
  },
  {
   "cell_type": "markdown",
   "id": "e16edb8a",
   "metadata": {},
   "source": [
    "### Exercise `Simplify`"
   ]
  },
  {
   "cell_type": "code",
   "execution_count": null,
   "id": "0418f9ba",
   "metadata": {},
   "outputs": [
    {
     "data": {
      "text/latex": [
       "$\\displaystyle \\frac{x^{2} - 1}{x - 1}$"
      ],
      "text/plain": [
       "(x**2 - 1)/(x - 1)"
      ]
     },
     "metadata": {},
     "output_type": "display_data"
    },
    {
     "data": {
      "text/latex": [
       "$\\displaystyle x + 1$"
      ],
      "text/plain": [
       "x + 1"
      ]
     },
     "metadata": {},
     "output_type": "display_data"
    }
   ],
   "source": [
    "# Display the roots of a polynomial\n",
    "\n",
    "rat =  (x**2-1)/(x-1)\n",
    "\n",
    "display(rat)\n",
    "\n",
    "display(ratsimp(rat))"
   ]
  },
  {
   "cell_type": "code",
   "execution_count": null,
   "id": "3bf84d8a",
   "metadata": {},
   "outputs": [
    {
     "data": {
      "text/latex": [
       "$\\displaystyle \\frac{1}{\\sqrt{x + 1} - 1}$"
      ],
      "text/plain": [
       "1/(sqrt(x + 1) - 1)"
      ]
     },
     "metadata": {},
     "output_type": "display_data"
    },
    {
     "data": {
      "text/latex": [
       "$\\displaystyle \\frac{\\sqrt{x + 1} + 1}{x}$"
      ],
      "text/plain": [
       "(sqrt(x + 1) + 1)/x"
      ]
     },
     "metadata": {},
     "output_type": "display_data"
    }
   ],
   "source": [
    "# Display the rationalize of a polynomial\n",
    "\n",
    "rat2 = 1/(sqrt(x+1)-1)\n",
    "\n",
    "display(rat2)\n",
    "\n",
    "display(radsimp(rat2))"
   ]
  },
  {
   "cell_type": "code",
   "execution_count": null,
   "id": "71887b8a",
   "metadata": {},
   "outputs": [
    {
     "data": {
      "text/latex": [
       "$\\displaystyle x^{2} y + x y^{2} + x y + x + y + 1$"
      ],
      "text/plain": [
       "x**2*y + x*y**2 + x*y + x + y + 1"
      ]
     },
     "metadata": {},
     "output_type": "display_data"
    },
    {
     "data": {
      "text/latex": [
       "$\\displaystyle x^{2} y + x \\left(y^{2} + y + 1\\right) + y + 1$"
      ],
      "text/plain": [
       "x**2*y + x*(y**2 + y + 1) + y + 1"
      ]
     },
     "metadata": {},
     "output_type": "display_data"
    },
    {
     "data": {
      "text/latex": [
       "$\\displaystyle x y^{2} + x + y \\left(x^{2} + x + 1\\right) + 1$"
      ],
      "text/plain": [
       "x*y**2 + x + y*(x**2 + x + 1) + 1"
      ]
     },
     "metadata": {},
     "output_type": "display_data"
    }
   ],
   "source": [
    "# Display the collection of a polynomial\n",
    "\n",
    "cll = x**2*y + x*y**2 + x*y + x + y + 1\n",
    "\n",
    "display(cll)\n",
    "\n",
    "display(collect(cll,x))\n",
    "display(collect(cll,y))"
   ]
  },
  {
   "cell_type": "code",
   "execution_count": 85,
   "id": "b64e470d",
   "metadata": {},
   "outputs": [
    {
     "data": {
      "text/latex": [
       "$\\displaystyle 2 \\sqrt{x} y + \\sqrt{x} + 3$"
      ],
      "text/plain": [
       "2*sqrt(x)*y + sqrt(x) + 3"
      ]
     },
     "metadata": {},
     "output_type": "display_data"
    },
    {
     "data": {
      "text/latex": [
       "$\\displaystyle \\sqrt{x} \\left(2 y + 1\\right) + 3$"
      ],
      "text/plain": [
       "sqrt(x)*(2*y + 1) + 3"
      ]
     },
     "metadata": {},
     "output_type": "display_data"
    }
   ],
   "source": [
    "cll2 = sqrt(x) + 2*sqrt(x)*y + 3\n",
    "\n",
    "display(cll2)\n",
    "display(collect(cll2,sqrt(x)))"
   ]
  },
  {
   "cell_type": "code",
   "execution_count": null,
   "id": "7032b9da",
   "metadata": {},
   "outputs": [],
   "source": []
  }
 ],
 "metadata": {
  "kernelspec": {
   "display_name": "Python 3",
   "language": "python",
   "name": "python3"
  },
  "language_info": {
   "codemirror_mode": {
    "name": "ipython",
    "version": 3
   },
   "file_extension": ".py",
   "mimetype": "text/x-python",
   "name": "python",
   "nbconvert_exporter": "python",
   "pygments_lexer": "ipython3",
   "version": "3.10.4"
  }
 },
 "nbformat": 4,
 "nbformat_minor": 5
}
