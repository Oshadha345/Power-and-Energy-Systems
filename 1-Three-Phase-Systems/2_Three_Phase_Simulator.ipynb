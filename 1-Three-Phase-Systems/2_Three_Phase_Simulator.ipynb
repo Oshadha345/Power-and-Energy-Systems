{
 "cells": [
  {
   "cell_type": "markdown",
   "id": "39c13767",
   "metadata": {},
   "source": [
    "# THREE PHASE SYSTEMS"
   ]
  },
  {
   "cell_type": "code",
   "execution_count": null,
   "id": "172198d9",
   "metadata": {
    "vscode": {
     "languageId": "plaintext"
    }
   },
   "outputs": [],
   "source": []
  }
 ],
 "metadata": {
  "language_info": {
   "name": "python"
  }
 },
 "nbformat": 4,
 "nbformat_minor": 5
}
