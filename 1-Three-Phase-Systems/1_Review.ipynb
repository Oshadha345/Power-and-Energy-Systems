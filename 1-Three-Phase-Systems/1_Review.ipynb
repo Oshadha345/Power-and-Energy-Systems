{
 "cells": [
  {
   "cell_type": "code",
   "execution_count": 2,
   "id": "4184caff",
   "metadata": {},
   "outputs": [],
   "source": [
    "import numpy as np\n",
    "import scipy as sp\n",
    "import sympy as sy"
   ]
  },
  {
   "cell_type": "markdown",
   "id": "76c208bc",
   "metadata": {},
   "source": [
    "# Review of AC Fundamentals\n",
    "\n",
    "1. Calculating RMS, Average, Form Factor, Crest Factor of AC signals\n"
   ]
  },
  {
   "cell_type": "markdown",
   "id": "7d3c028c",
   "metadata": {},
   "source": [
    "## 1. Calculating RMS, Average, Form Factor, Crest Factor of AC signals\n"
   ]
  },
  {
   "cell_type": "markdown",
   "id": "e6e7dd9e",
   "metadata": {},
   "source": [
    "### RMS and Average Power "
   ]
  },
  {
   "cell_type": "code",
   "execution_count": null,
   "id": "362a6e15",
   "metadata": {},
   "outputs": [],
   "source": [
    "#calculating RMS of a continuos function\n",
    "\n",
    "def cal_RMS_(fun):\n",
    "    \n",
    "    \n"
   ]
  }
 ],
 "metadata": {
  "kernelspec": {
   "display_name": "Python 3",
   "language": "python",
   "name": "python3"
  },
  "language_info": {
   "codemirror_mode": {
    "name": "ipython",
    "version": 3
   },
   "file_extension": ".py",
   "mimetype": "text/x-python",
   "name": "python",
   "nbconvert_exporter": "python",
   "pygments_lexer": "ipython3",
   "version": "3.10.4"
  }
 },
 "nbformat": 4,
 "nbformat_minor": 5
}
