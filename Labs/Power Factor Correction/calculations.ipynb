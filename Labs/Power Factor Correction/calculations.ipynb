{
 "cells": [
  {
   "cell_type": "markdown",
   "id": "bad5d951",
   "metadata": {},
   "source": [
    "# Calculations for Power Factor Correction"
   ]
  },
  {
   "cell_type": "code",
   "execution_count": 1,
   "id": "66510ddb",
   "metadata": {},
   "outputs": [],
   "source": [
    "import plotly.graph_objects as go\n",
    "import numpy as np"
   ]
  },
  {
   "cell_type": "markdown",
   "id": "8363cffe",
   "metadata": {},
   "source": [
    "## Capacitor value VS Current"
   ]
  },
  {
   "cell_type": "code",
   "execution_count": 5,
   "id": "56d54e38",
   "metadata": {},
   "outputs": [
    {
     "name": "stdout",
     "output_type": "stream",
     "text": [
      "[[ 39.  76.]\n",
      " [ 79.  50.]\n",
      " [118.  48.]\n",
      " [151.  64.]\n",
      " [191.  96.]\n",
      " [231. 128.]]\n",
      "Number of squares for each capacitor value: [ 39.  79. 118. 151. 191. 231.]\n",
      "Number of squares for each current value: [ 76.  50.  48.  64.  96. 128.]\n"
     ]
    }
   ],
   "source": [
    "#capacitor values \n",
    "capacitor_values = np.array([9.90, 19.95, 29.50, 37.90, 47.90, 57.90])  # in Micro Farads\n",
    "\n",
    "# Current values for each capacitor value\n",
    "current_values = np.array([0.76, 0.50, 0.48, 0.64, 0.96, 1.28])  # in Amperes\n",
    "\n",
    "# counting squares for manual graph drawing\n",
    "\n",
    "#x-axis values (capacitor values)\n",
    "capacitance_per_square = 10 / 40 \n",
    "\n",
    "#y-axis values (current values)\n",
    "current_per_square = 0.3 / 30\n",
    "\n",
    "#number of squares for each capacitor value\n",
    "number_of_squares = np.floor(capacitor_values / capacitance_per_square)\n",
    "\n",
    "#number of squares for each current value\n",
    "number_of_squares_current = np.ceil(current_values / current_per_square)\n",
    "\n",
    "# create a table of number of squares\n",
    "table = np.vstack((number_of_squares, number_of_squares_current)).T\n",
    "print(table)\n",
    "\n",
    "print(\"Number of squares for each capacitor value:\", number_of_squares)\n",
    "print(\"Number of squares for each current value:\", number_of_squares_current)\n",
    "  \n"
   ]
  },
  {
   "cell_type": "code",
   "execution_count": 6,
   "id": "ab3c12a2",
   "metadata": {},
   "outputs": [
    {
     "data": {
      "application/vnd.plotly.v1+json": {
       "config": {
        "plotlyServerURL": "https://plot.ly"
       },
       "data": [
        {
         "marker": {
          "color": "blue",
          "size": 10
         },
         "mode": "markers",
         "name": "Data Points",
         "type": "scatter",
         "x": [
          9.9,
          19.95,
          29.5,
          37.9,
          47.9,
          57.9
         ],
         "y": [
          0.76,
          0.5,
          0.48,
          0.64,
          0.96,
          1.28
         ]
        },
        {
         "line": {
          "color": "red",
          "width": 2
         },
         "mode": "lines",
         "name": "Fitted Curve",
         "type": "scatter",
         "x": [
          9.9,
          10.384848484848485,
          10.869696969696971,
          11.354545454545455,
          11.83939393939394,
          12.324242424242424,
          12.809090909090909,
          13.293939393939395,
          13.77878787878788,
          14.263636363636364,
          14.74848484848485,
          15.233333333333334,
          15.718181818181819,
          16.203030303030303,
          16.687878787878788,
          17.172727272727272,
          17.657575757575756,
          18.14242424242424,
          18.627272727272725,
          19.112121212121213,
          19.596969696969698,
          20.081818181818182,
          20.56666666666667,
          21.051515151515154,
          21.53636363636364,
          22.021212121212123,
          22.506060606060608,
          22.990909090909092,
          23.475757575757576,
          23.96060606060606,
          24.445454545454545,
          24.93030303030303,
          25.415151515151514,
          25.9,
          26.384848484848483,
          26.869696969696967,
          27.354545454545452,
          27.839393939393943,
          28.324242424242428,
          28.809090909090912,
          29.293939393939397,
          29.77878787878788,
          30.263636363636365,
          30.74848484848485,
          31.233333333333334,
          31.71818181818182,
          32.2030303030303,
          32.68787878787879,
          33.17272727272727,
          33.657575757575756,
          34.14242424242424,
          34.627272727272725,
          35.11212121212121,
          35.5969696969697,
          36.081818181818186,
          36.56666666666667,
          37.051515151515154,
          37.53636363636364,
          38.02121212121212,
          38.50606060606061,
          38.99090909090909,
          39.47575757575758,
          39.96060606060606,
          40.445454545454545,
          40.93030303030303,
          41.415151515151514,
          41.9,
          42.38484848484848,
          42.86969696969697,
          43.35454545454545,
          43.839393939393936,
          44.32424242424242,
          44.809090909090905,
          45.2939393939394,
          45.77878787878788,
          46.263636363636365,
          46.74848484848485,
          47.233333333333334,
          47.71818181818182,
          48.2030303030303,
          48.68787878787879,
          49.17272727272727,
          49.657575757575756,
          50.14242424242424,
          50.627272727272725,
          51.11212121212121,
          51.596969696969694,
          52.08181818181818,
          52.56666666666667,
          53.051515151515154,
          53.53636363636364,
          54.02121212121212,
          54.50606060606061,
          54.99090909090909,
          55.47575757575758,
          55.96060606060606,
          56.445454545454545,
          56.93030303030303,
          57.415151515151514,
          57.9
         ],
         "y": [
          0.7265537909725351,
          0.7139010941727952,
          0.7016294051518712,
          0.6897387239097637,
          0.6782290504464721,
          0.6671003847619967,
          0.6563527268563376,
          0.6459860767294945,
          0.6360004343814676,
          0.6263957998122569,
          0.6171721730218623,
          0.608329554010284,
          0.5998679427775218,
          0.5917873393235756,
          0.5840877436484457,
          0.576769155752132,
          0.5698315756346344,
          0.563275003295953,
          0.5570994387360877,
          0.5513048819550386,
          0.5458913329528057,
          0.5408587917293888,
          0.5362072582847882,
          0.5319367326190038,
          0.5280472147320354,
          0.5245387046238833,
          0.5214112022945473,
          0.5186647077440275,
          0.5162992209723238,
          0.5143147419794363,
          0.512711270765365,
          0.5114888073301098,
          0.5106473516736708,
          0.5101869037960479,
          0.5101074636972412,
          0.5104090313772507,
          0.5110916068360764,
          0.5121551900737181,
          0.5135997810901761,
          0.5154253798854502,
          0.5176319864595404,
          0.5202196008124469,
          0.5231882229441694,
          0.5265378528547082,
          0.5302684905440632,
          0.5343801360122342,
          0.5388727892592214,
          0.5437464502850248,
          0.5490011190896443,
          0.5546367956730801,
          0.5606534800353319,
          0.5670511721764,
          0.5738298720962842,
          0.5809895797949847,
          0.5885302952725011,
          0.5964520185288339,
          0.6047547495639828,
          0.6134384883779477,
          0.6225032349707289,
          0.6319489893423261,
          0.6417757514927396,
          0.6519835214219692,
          0.6625722991300151,
          0.6735420846168771,
          0.6848928778825553,
          0.6966246789270494,
          0.7087374877503598,
          0.7212313043524865,
          0.7341061287334294,
          0.7473619608931883,
          0.7609988008317632,
          0.7750166485491544,
          0.7894155040453619,
          0.8041953673203859,
          0.8193562383742252,
          0.8348981172068812,
          0.8508210038183533,
          0.8671248982086417,
          0.883809800377746,
          0.9008757103256664,
          0.9183226280524031,
          0.936150553557956,
          0.9543594868423251,
          0.9729494279055103,
          0.9919203767475113,
          1.011272333368329,
          1.0310052977679627,
          1.0511192699464125,
          1.0716142499036787,
          1.0924902376397607,
          1.1137472331546592,
          1.1353852364483736,
          1.1574042475209043,
          1.179804266372251,
          1.202585293002414,
          1.225747327411393,
          1.2492903695991884,
          1.2732144195658,
          1.2975194773112273,
          1.322205542835471
         ]
        }
       ],
       "layout": {
        "height": 600,
        "showlegend": true,
        "template": {
         "data": {
          "bar": [
           {
            "error_x": {
             "color": "#2a3f5f"
            },
            "error_y": {
             "color": "#2a3f5f"
            },
            "marker": {
             "line": {
              "color": "#E5ECF6",
              "width": 0.5
             },
             "pattern": {
              "fillmode": "overlay",
              "size": 10,
              "solidity": 0.2
             }
            },
            "type": "bar"
           }
          ],
          "barpolar": [
           {
            "marker": {
             "line": {
              "color": "#E5ECF6",
              "width": 0.5
             },
             "pattern": {
              "fillmode": "overlay",
              "size": 10,
              "solidity": 0.2
             }
            },
            "type": "barpolar"
           }
          ],
          "carpet": [
           {
            "aaxis": {
             "endlinecolor": "#2a3f5f",
             "gridcolor": "white",
             "linecolor": "white",
             "minorgridcolor": "white",
             "startlinecolor": "#2a3f5f"
            },
            "baxis": {
             "endlinecolor": "#2a3f5f",
             "gridcolor": "white",
             "linecolor": "white",
             "minorgridcolor": "white",
             "startlinecolor": "#2a3f5f"
            },
            "type": "carpet"
           }
          ],
          "choropleth": [
           {
            "colorbar": {
             "outlinewidth": 0,
             "ticks": ""
            },
            "type": "choropleth"
           }
          ],
          "contour": [
           {
            "colorbar": {
             "outlinewidth": 0,
             "ticks": ""
            },
            "colorscale": [
             [
              0,
              "#0d0887"
             ],
             [
              0.1111111111111111,
              "#46039f"
             ],
             [
              0.2222222222222222,
              "#7201a8"
             ],
             [
              0.3333333333333333,
              "#9c179e"
             ],
             [
              0.4444444444444444,
              "#bd3786"
             ],
             [
              0.5555555555555556,
              "#d8576b"
             ],
             [
              0.6666666666666666,
              "#ed7953"
             ],
             [
              0.7777777777777778,
              "#fb9f3a"
             ],
             [
              0.8888888888888888,
              "#fdca26"
             ],
             [
              1,
              "#f0f921"
             ]
            ],
            "type": "contour"
           }
          ],
          "contourcarpet": [
           {
            "colorbar": {
             "outlinewidth": 0,
             "ticks": ""
            },
            "type": "contourcarpet"
           }
          ],
          "heatmap": [
           {
            "colorbar": {
             "outlinewidth": 0,
             "ticks": ""
            },
            "colorscale": [
             [
              0,
              "#0d0887"
             ],
             [
              0.1111111111111111,
              "#46039f"
             ],
             [
              0.2222222222222222,
              "#7201a8"
             ],
             [
              0.3333333333333333,
              "#9c179e"
             ],
             [
              0.4444444444444444,
              "#bd3786"
             ],
             [
              0.5555555555555556,
              "#d8576b"
             ],
             [
              0.6666666666666666,
              "#ed7953"
             ],
             [
              0.7777777777777778,
              "#fb9f3a"
             ],
             [
              0.8888888888888888,
              "#fdca26"
             ],
             [
              1,
              "#f0f921"
             ]
            ],
            "type": "heatmap"
           }
          ],
          "heatmapgl": [
           {
            "colorbar": {
             "outlinewidth": 0,
             "ticks": ""
            },
            "colorscale": [
             [
              0,
              "#0d0887"
             ],
             [
              0.1111111111111111,
              "#46039f"
             ],
             [
              0.2222222222222222,
              "#7201a8"
             ],
             [
              0.3333333333333333,
              "#9c179e"
             ],
             [
              0.4444444444444444,
              "#bd3786"
             ],
             [
              0.5555555555555556,
              "#d8576b"
             ],
             [
              0.6666666666666666,
              "#ed7953"
             ],
             [
              0.7777777777777778,
              "#fb9f3a"
             ],
             [
              0.8888888888888888,
              "#fdca26"
             ],
             [
              1,
              "#f0f921"
             ]
            ],
            "type": "heatmapgl"
           }
          ],
          "histogram": [
           {
            "marker": {
             "pattern": {
              "fillmode": "overlay",
              "size": 10,
              "solidity": 0.2
             }
            },
            "type": "histogram"
           }
          ],
          "histogram2d": [
           {
            "colorbar": {
             "outlinewidth": 0,
             "ticks": ""
            },
            "colorscale": [
             [
              0,
              "#0d0887"
             ],
             [
              0.1111111111111111,
              "#46039f"
             ],
             [
              0.2222222222222222,
              "#7201a8"
             ],
             [
              0.3333333333333333,
              "#9c179e"
             ],
             [
              0.4444444444444444,
              "#bd3786"
             ],
             [
              0.5555555555555556,
              "#d8576b"
             ],
             [
              0.6666666666666666,
              "#ed7953"
             ],
             [
              0.7777777777777778,
              "#fb9f3a"
             ],
             [
              0.8888888888888888,
              "#fdca26"
             ],
             [
              1,
              "#f0f921"
             ]
            ],
            "type": "histogram2d"
           }
          ],
          "histogram2dcontour": [
           {
            "colorbar": {
             "outlinewidth": 0,
             "ticks": ""
            },
            "colorscale": [
             [
              0,
              "#0d0887"
             ],
             [
              0.1111111111111111,
              "#46039f"
             ],
             [
              0.2222222222222222,
              "#7201a8"
             ],
             [
              0.3333333333333333,
              "#9c179e"
             ],
             [
              0.4444444444444444,
              "#bd3786"
             ],
             [
              0.5555555555555556,
              "#d8576b"
             ],
             [
              0.6666666666666666,
              "#ed7953"
             ],
             [
              0.7777777777777778,
              "#fb9f3a"
             ],
             [
              0.8888888888888888,
              "#fdca26"
             ],
             [
              1,
              "#f0f921"
             ]
            ],
            "type": "histogram2dcontour"
           }
          ],
          "mesh3d": [
           {
            "colorbar": {
             "outlinewidth": 0,
             "ticks": ""
            },
            "type": "mesh3d"
           }
          ],
          "parcoords": [
           {
            "line": {
             "colorbar": {
              "outlinewidth": 0,
              "ticks": ""
             }
            },
            "type": "parcoords"
           }
          ],
          "pie": [
           {
            "automargin": true,
            "type": "pie"
           }
          ],
          "scatter": [
           {
            "fillpattern": {
             "fillmode": "overlay",
             "size": 10,
             "solidity": 0.2
            },
            "type": "scatter"
           }
          ],
          "scatter3d": [
           {
            "line": {
             "colorbar": {
              "outlinewidth": 0,
              "ticks": ""
             }
            },
            "marker": {
             "colorbar": {
              "outlinewidth": 0,
              "ticks": ""
             }
            },
            "type": "scatter3d"
           }
          ],
          "scattercarpet": [
           {
            "marker": {
             "colorbar": {
              "outlinewidth": 0,
              "ticks": ""
             }
            },
            "type": "scattercarpet"
           }
          ],
          "scattergeo": [
           {
            "marker": {
             "colorbar": {
              "outlinewidth": 0,
              "ticks": ""
             }
            },
            "type": "scattergeo"
           }
          ],
          "scattergl": [
           {
            "marker": {
             "colorbar": {
              "outlinewidth": 0,
              "ticks": ""
             }
            },
            "type": "scattergl"
           }
          ],
          "scattermapbox": [
           {
            "marker": {
             "colorbar": {
              "outlinewidth": 0,
              "ticks": ""
             }
            },
            "type": "scattermapbox"
           }
          ],
          "scatterpolar": [
           {
            "marker": {
             "colorbar": {
              "outlinewidth": 0,
              "ticks": ""
             }
            },
            "type": "scatterpolar"
           }
          ],
          "scatterpolargl": [
           {
            "marker": {
             "colorbar": {
              "outlinewidth": 0,
              "ticks": ""
             }
            },
            "type": "scatterpolargl"
           }
          ],
          "scatterternary": [
           {
            "marker": {
             "colorbar": {
              "outlinewidth": 0,
              "ticks": ""
             }
            },
            "type": "scatterternary"
           }
          ],
          "surface": [
           {
            "colorbar": {
             "outlinewidth": 0,
             "ticks": ""
            },
            "colorscale": [
             [
              0,
              "#0d0887"
             ],
             [
              0.1111111111111111,
              "#46039f"
             ],
             [
              0.2222222222222222,
              "#7201a8"
             ],
             [
              0.3333333333333333,
              "#9c179e"
             ],
             [
              0.4444444444444444,
              "#bd3786"
             ],
             [
              0.5555555555555556,
              "#d8576b"
             ],
             [
              0.6666666666666666,
              "#ed7953"
             ],
             [
              0.7777777777777778,
              "#fb9f3a"
             ],
             [
              0.8888888888888888,
              "#fdca26"
             ],
             [
              1,
              "#f0f921"
             ]
            ],
            "type": "surface"
           }
          ],
          "table": [
           {
            "cells": {
             "fill": {
              "color": "#EBF0F8"
             },
             "line": {
              "color": "white"
             }
            },
            "header": {
             "fill": {
              "color": "#C8D4E3"
             },
             "line": {
              "color": "white"
             }
            },
            "type": "table"
           }
          ]
         },
         "layout": {
          "annotationdefaults": {
           "arrowcolor": "#2a3f5f",
           "arrowhead": 0,
           "arrowwidth": 1
          },
          "autotypenumbers": "strict",
          "coloraxis": {
           "colorbar": {
            "outlinewidth": 0,
            "ticks": ""
           }
          },
          "colorscale": {
           "diverging": [
            [
             0,
             "#8e0152"
            ],
            [
             0.1,
             "#c51b7d"
            ],
            [
             0.2,
             "#de77ae"
            ],
            [
             0.3,
             "#f1b6da"
            ],
            [
             0.4,
             "#fde0ef"
            ],
            [
             0.5,
             "#f7f7f7"
            ],
            [
             0.6,
             "#e6f5d0"
            ],
            [
             0.7,
             "#b8e186"
            ],
            [
             0.8,
             "#7fbc41"
            ],
            [
             0.9,
             "#4d9221"
            ],
            [
             1,
             "#276419"
            ]
           ],
           "sequential": [
            [
             0,
             "#0d0887"
            ],
            [
             0.1111111111111111,
             "#46039f"
            ],
            [
             0.2222222222222222,
             "#7201a8"
            ],
            [
             0.3333333333333333,
             "#9c179e"
            ],
            [
             0.4444444444444444,
             "#bd3786"
            ],
            [
             0.5555555555555556,
             "#d8576b"
            ],
            [
             0.6666666666666666,
             "#ed7953"
            ],
            [
             0.7777777777777778,
             "#fb9f3a"
            ],
            [
             0.8888888888888888,
             "#fdca26"
            ],
            [
             1,
             "#f0f921"
            ]
           ],
           "sequentialminus": [
            [
             0,
             "#0d0887"
            ],
            [
             0.1111111111111111,
             "#46039f"
            ],
            [
             0.2222222222222222,
             "#7201a8"
            ],
            [
             0.3333333333333333,
             "#9c179e"
            ],
            [
             0.4444444444444444,
             "#bd3786"
            ],
            [
             0.5555555555555556,
             "#d8576b"
            ],
            [
             0.6666666666666666,
             "#ed7953"
            ],
            [
             0.7777777777777778,
             "#fb9f3a"
            ],
            [
             0.8888888888888888,
             "#fdca26"
            ],
            [
             1,
             "#f0f921"
            ]
           ]
          },
          "colorway": [
           "#636efa",
           "#EF553B",
           "#00cc96",
           "#ab63fa",
           "#FFA15A",
           "#19d3f3",
           "#FF6692",
           "#B6E880",
           "#FF97FF",
           "#FECB52"
          ],
          "font": {
           "color": "#2a3f5f"
          },
          "geo": {
           "bgcolor": "white",
           "lakecolor": "white",
           "landcolor": "#E5ECF6",
           "showlakes": true,
           "showland": true,
           "subunitcolor": "white"
          },
          "hoverlabel": {
           "align": "left"
          },
          "hovermode": "closest",
          "mapbox": {
           "style": "light"
          },
          "paper_bgcolor": "white",
          "plot_bgcolor": "#E5ECF6",
          "polar": {
           "angularaxis": {
            "gridcolor": "white",
            "linecolor": "white",
            "ticks": ""
           },
           "bgcolor": "#E5ECF6",
           "radialaxis": {
            "gridcolor": "white",
            "linecolor": "white",
            "ticks": ""
           }
          },
          "scene": {
           "xaxis": {
            "backgroundcolor": "#E5ECF6",
            "gridcolor": "white",
            "gridwidth": 2,
            "linecolor": "white",
            "showbackground": true,
            "ticks": "",
            "zerolinecolor": "white"
           },
           "yaxis": {
            "backgroundcolor": "#E5ECF6",
            "gridcolor": "white",
            "gridwidth": 2,
            "linecolor": "white",
            "showbackground": true,
            "ticks": "",
            "zerolinecolor": "white"
           },
           "zaxis": {
            "backgroundcolor": "#E5ECF6",
            "gridcolor": "white",
            "gridwidth": 2,
            "linecolor": "white",
            "showbackground": true,
            "ticks": "",
            "zerolinecolor": "white"
           }
          },
          "shapedefaults": {
           "line": {
            "color": "#2a3f5f"
           }
          },
          "ternary": {
           "aaxis": {
            "gridcolor": "white",
            "linecolor": "white",
            "ticks": ""
           },
           "baxis": {
            "gridcolor": "white",
            "linecolor": "white",
            "ticks": ""
           },
           "bgcolor": "#E5ECF6",
           "caxis": {
            "gridcolor": "white",
            "linecolor": "white",
            "ticks": ""
           }
          },
          "title": {
           "x": 0.05
          },
          "xaxis": {
           "automargin": true,
           "gridcolor": "white",
           "linecolor": "white",
           "ticks": "",
           "title": {
            "standoff": 15
           },
           "zerolinecolor": "white",
           "zerolinewidth": 2
          },
          "yaxis": {
           "automargin": true,
           "gridcolor": "white",
           "linecolor": "white",
           "ticks": "",
           "title": {
            "standoff": 15
           },
           "zerolinecolor": "white",
           "zerolinewidth": 2
          }
         }
        },
        "title": {
         "text": "Capacitor Value vs Current"
        },
        "width": 800,
        "xaxis": {
         "title": {
          "text": "Capacitor Value (Micro Farads)"
         }
        },
        "yaxis": {
         "title": {
          "text": "Current (Amperes)"
         }
        }
       }
      }
     },
     "metadata": {},
     "output_type": "display_data"
    }
   ],
   "source": [
    "# fitted curve for capacitor values vs Current values\n",
    "\n",
    "def fit_curve(x, y):\n",
    "    # Fit a polynomial of degree 2 to the data\n",
    "    coefficients = np.polyfit(x, y, 2)\n",
    "    polynomial = np.poly1d(coefficients)\n",
    "    return polynomial\n",
    "\n",
    "# Fit the curve\n",
    "fitted_curve = fit_curve(capacitor_values, current_values)\n",
    "\n",
    "# Generate x values for the fitted curve\n",
    "x_fit = np.linspace(min(capacitor_values), max(capacitor_values), 100)\n",
    "\n",
    "# Generate y values using the fitted curve\n",
    "y_fit = fitted_curve(x_fit)\n",
    "\n",
    "# Create the plot\n",
    "fig = go.Figure()\n",
    "fig.add_trace(go.Scatter(\n",
    "    x=capacitor_values,\n",
    "    y=current_values,\n",
    "    mode='markers',\n",
    "    name='Data Points',\n",
    "    marker=dict(size=10, color='blue')\n",
    "))\n",
    "\n",
    "fig.add_trace(go.Scatter(\n",
    "    x=x_fit,\n",
    "    y=y_fit,\n",
    "    mode='lines',\n",
    "    name='Fitted Curve',\n",
    "    line=dict(color='red', width=2)\n",
    "))\n",
    "\n",
    "fig.update_layout(\n",
    "    title='Capacitor Value vs Current',\n",
    "    xaxis_title='Capacitor Value (Micro Farads)',\n",
    "    yaxis_title='Current (Amperes)',\n",
    "    showlegend=True,\n",
    "    width=800,\n",
    "    height=600\n",
    ")\n",
    "\n",
    "fig.show()"
   ]
  }
 ],
 "metadata": {
  "kernelspec": {
   "display_name": "Python 3",
   "language": "python",
   "name": "python3"
  },
  "language_info": {
   "codemirror_mode": {
    "name": "ipython",
    "version": 3
   },
   "file_extension": ".py",
   "mimetype": "text/x-python",
   "name": "python",
   "nbconvert_exporter": "python",
   "pygments_lexer": "ipython3",
   "version": "3.10.4"
  }
 },
 "nbformat": 4,
 "nbformat_minor": 5
}
